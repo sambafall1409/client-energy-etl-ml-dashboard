{
 "cells": [
  {
   "cell_type": "code",
   "execution_count": 0,
   "metadata": {
    "application/vnd.databricks.v1+cell": {
     "cellMetadata": {
      "byteLimit": 2048000,
      "rowLimit": 10000
     },
     "inputWidgets": {},
     "nuid": "e41e85c3-8382-4df7-acb4-bf722b8f9471",
     "showTitle": false,
     "tableResultSettingsMap": {},
     "title": ""
    }
   },
   "outputs": [
    {
     "output_type": "stream",
     "name": "stdout",
     "output_type": "stream",
     "text": [
      "+-------------+----------+--------+------------+--------+-------------+--------+---------+--------+--------------------+----------------------+----------+--------------+---------------+-----+---+-------+----+----+------+------+\n|production_id|      date|    time|turbine_name|capacity|location_name|latitude|longitude|  region|              status|responsible_department|wind_speed|wind_direction|energy_produced|month|day|quarter|year|hour|minute|second|\n+-------------+----------+--------+------------+--------+-------------+--------+---------+--------+--------------------+----------------------+----------+--------------+---------------+-----+---+-------+----+----+------+------+\n|            1|2024-06-01|00-00-00|   Turbine A|    2200|   Location 1|    34.0|   -118.0|Region A|              Online|            Operations|  18.44936|            SE|     1786.91843|    6|  1|      2|2024|  00|    00|    00|\n|            2|2024-06-01|00-00-00|   Turbine B|    2000|   Location 2|    37.0|   -119.0|Region B|              Online|            Operations|  16.34197|             E|     1156.38082|    6|  1|      2|2024|  00|    00|    00|\n|            3|2024-06-01|00-00-00|   Turbine C|    2500|   Location 3|    41.0|    -74.0|Region C|              Online|            Operations|  24.16424|             E|     1216.49768|    6|  1|      2|2024|  00|    00|    00|\n|            4|2024-06-01|00-10-00|   Turbine A|    2200|   Location 1|    34.0|   -118.0|Region A|              Online|            Operations|  13.03947|            NE|     1888.39496|    6|  1|      2|2024|  00|    10|    00|\n|            5|2024-06-01|00-10-00|   Turbine B|    2000|   Location 2|    37.0|   -119.0|Region B|              Online|            Operations|   4.00397|            SE|     1052.36231|    6|  1|      2|2024|  00|    10|    00|\n|            6|2024-06-01|00-10-00|   Turbine C|    2500|   Location 3|    41.0|    -74.0|Region C|Reactive Maintenance|           Maintenance|   5.22807|             N|            0.0|    6|  1|      2|2024|  00|    10|    00|\n|            7|2024-06-01|00-20-00|   Turbine A|    2200|   Location 1|    34.0|   -118.0|Region A|Reactive Maintenance|           Maintenance|  20.38065|            SE|            0.0|    6|  1|      2|2024|  00|    20|    00|\n|            8|2024-06-01|00-20-00|   Turbine B|    2000|   Location 2|    37.0|   -119.0|Region B|              Online|            Operations|  17.61423|            NW|     1459.88153|    6|  1|      2|2024|  00|    20|    00|\n|            9|2024-06-01|00-20-00|   Turbine C|    2500|   Location 3|    41.0|    -74.0|Region C|              Online|            Operations|  23.72739|            NW|      658.86141|    6|  1|      2|2024|  00|    20|    00|\n|           10|2024-06-01|00-30-00|   Turbine A|    2200|   Location 1|    34.0|   -118.0|Region A|              Online|            Operations|   6.28564|             E|      1184.2255|    6|  1|      2|2024|  00|    30|    00|\n+-------------+----------+--------+------------+--------+-------------+--------+---------+--------+--------------------+----------------------+----------+--------------+---------------+-----+---+-------+----+----+------+------+\nonly showing top 10 rows\n\n"
     ]
    }
   ],
   "source": [
    "\n",
    "#load adata silver \n",
    "df_silver = spark.read.parquet(\"/mnt/silverclientwind/wind_power_production_enriched\")\n",
    "#dime dates\n",
    "df_silver.show(10)"
   ]
  },
  {
   "cell_type": "code",
   "execution_count": 0,
   "metadata": {
    "application/vnd.databricks.v1+cell": {
     "cellMetadata": {
      "byteLimit": 2048000,
      "rowLimit": 10000
     },
     "inputWidgets": {},
     "nuid": "cf090f4b-376a-43c5-bfaf-87914e4266ab",
     "showTitle": false,
     "tableResultSettingsMap": {},
     "title": ""
    }
   },
   "outputs": [],
   "source": [
    "\n",
    "\n",
    "# 1. Créer le schéma Gold s'il n'existe pas\n",
    "spark.sql(\"CREATE SCHEMA IF NOT EXISTS goldwind \")\n",
    "\n",
    "#dim time \n",
    "dim_time=(df_silver\n",
    ".select(\"time\",\"hour\",\"minute\",\"second\").distinct().withColumnRenamed(\"time\",\"time_id\")\n",
    ")\n",
    "\n",
    "\n",
    "# Écriture dans le layer Gold\n",
    "\n",
    "# 4. Sauvegarder dans Gold\n",
    "dim_time.write.format(\"delta\").mode(\"overwrite\").saveAsTable(\"goldwind.dim_time\")\n"
   ]
  },
  {
   "cell_type": "code",
   "execution_count": 0,
   "metadata": {
    "application/vnd.databricks.v1+cell": {
     "cellMetadata": {
      "byteLimit": 2048000,
      "rowLimit": 10000
     },
     "inputWidgets": {},
     "nuid": "fa0fccc8-ef1d-4940-9b9f-ece9828cfb70",
     "showTitle": false,
     "tableResultSettingsMap": {},
     "title": ""
    }
   },
   "outputs": [],
   "source": [
    "dim_date=(df_silver\n",
    ".select(\"date\",\"year\",\"month\",\"day\",\"quarter\").distinct()\n",
    ".withColumnRenamed(\"date\",\"date_id\")\n",
    "\n",
    ")\n",
    "\n",
    "# 4. Sauvegarder dans Gold\n",
    "dim_date.write.format(\"delta\").mode(\"overwrite\").saveAsTable(\"goldwind.dim_date\")"
   ]
  },
  {
   "cell_type": "code",
   "execution_count": 0,
   "metadata": {
    "application/vnd.databricks.v1+cell": {
     "cellMetadata": {
      "byteLimit": 2048000,
      "rowLimit": 10000
     },
     "inputWidgets": {},
     "nuid": "b80a3f5f-e6e1-4778-80bf-cdb65b9a35e6",
     "showTitle": false,
     "tableResultSettingsMap": {},
     "title": ""
    }
   },
   "outputs": [],
   "source": [
    "#dim ostatus operation \n",
    "from pyspark.sql.window import Window\n",
    "from pyspark.sql.functions import row_number\n",
    "windowSpec = Window.orderBy(\"status\", \"responsible_department\")\n",
    "\n",
    "dim_status = (\n",
    "    df_silver\n",
    "    .select(\"status\", \"responsible_department\")\n",
    "    .distinct()\n",
    "    .withColumn(\"status_id\", row_number().over(windowSpec))\n",
    ")\n",
    "\n",
    "# 4. Sauvegarder dans Gold\n",
    "dim_status.write.format(\"delta\").mode(\"overwrite\").saveAsTable(\"goldwind.dim_status\")\n",
    "\n"
   ]
  },
  {
   "cell_type": "code",
   "execution_count": 0,
   "metadata": {
    "application/vnd.databricks.v1+cell": {
     "cellMetadata": {
      "byteLimit": 2048000,
      "rowLimit": 10000
     },
     "inputWidgets": {},
     "nuid": "5076e0fe-d253-49fc-927f-b96d83a3fa19",
     "showTitle": false,
     "tableResultSettingsMap": {},
     "title": ""
    }
   },
   "outputs": [],
   "source": [
    "\n",
    "from pyspark.sql.window import Window\n",
    "from pyspark.sql.functions import row_number\n",
    "windowSpec = Window.orderBy(\"turbine_name\", \"capacity\",\"latitude\",\"longitude\",\"region\")\n",
    "dim_turbine = (\n",
    "    df_silver\n",
    "    .select(\"turbine_name\", \"capacity\",\"latitude\",\"longitude\",\"region\")\n",
    "    .distinct()\n",
    "    .withColumn(\"turbine_id\", row_number().over(windowSpec))\n",
    ")\n",
    "\n",
    "\n",
    "# 4. Sauvegarder dans Gold\n",
    "dim_turbine.write.format(\"delta\").mode(\"overwrite\").saveAsTable(\"goldwind.dim_turbine\")\n"
   ]
  },
  {
   "cell_type": "code",
   "execution_count": 0,
   "metadata": {
    "application/vnd.databricks.v1+cell": {
     "cellMetadata": {
      "byteLimit": 2048000,
      "rowLimit": 10000
     },
     "inputWidgets": {},
     "nuid": "7d06c2f2-d9c0-42d4-bae1-110b4ce5702d",
     "showTitle": false,
     "tableResultSettingsMap": {},
     "title": ""
    }
   },
   "outputs": [],
   "source": [
    "# Jointures avec les dimensions\n",
    "fact = (\n",
    "    df_silver\n",
    "    # Join avec dim_date\n",
    "    .join(dim_date, df_silver[\"date\"] == dim_date[\"date_id\"], \"left\")\n",
    "    # Join avec dim_time\n",
    "    .join(dim_time, df_silver[\"time\"] == dim_time[\"time_id\"], \"left\")\n",
    "    # Join avec dim_turbine\n",
    "    .join(dim_turbine, [\"turbine_name\", \"capacity\", \"latitude\", \"longitude\", \"region\"], \"left\")\n",
    "    # Join avec dim_status\n",
    "    .join(dim_status, [\"status\", \"responsible_department\"], \"left\")\n",
    "    .select(\n",
    "        \"production_id\",\n",
    "        \"date_id\",\n",
    "        \"time_id\",\n",
    "        \"turbine_id\",\n",
    "        \"status_id\",\n",
    "        \"wind_speed\",\n",
    "        \"wind_direction\",\n",
    "        \"energy_produced\"\n",
    "    )\n",
    ")\n",
    "# 4. Sauvegarder dans Gold\n",
    "fact.write.format(\"delta\").mode(\"overwrite\").saveAsTable(\"goldwind.fact\")\n"
   ]
  },
  {
   "cell_type": "code",
   "execution_count": 0,
   "metadata": {
    "application/vnd.databricks.v1+cell": {
     "cellMetadata": {
      "byteLimit": 2048000,
      "implicitDf": true,
      "rowLimit": 10000
     },
     "inputWidgets": {},
     "nuid": "b4df3d44-1b11-445b-9c64-f31edabb8bf6",
     "showTitle": false,
     "tableResultSettingsMap": {},
     "title": ""
    }
   },
   "outputs": [
    {
     "output_type": "display_data",
     "data": {
      "text/html": [
       "<style scoped>\n",
       "  .table-result-container {\n",
       "    max-height: 300px;\n",
       "    overflow: auto;\n",
       "  }\n",
       "  table, th, td {\n",
       "    border: 1px solid black;\n",
       "    border-collapse: collapse;\n",
       "  }\n",
       "  th, td {\n",
       "    padding: 5px;\n",
       "  }\n",
       "  th {\n",
       "    text-align: left;\n",
       "  }\n",
       "</style><div class='table-result-container'><table class='table-result'><thead style='background-color: white'><tr><th>production_id</th><th>date_id</th><th>time_id</th><th>turbine_id</th><th>status_id</th><th>wind_speed</th><th>wind_direction</th><th>energy_produced</th></tr></thead><tbody><tr><td>1</td><td>2024-06-01</td><td>00-00-00</td><td>1</td><td>4</td><td>18.44936</td><td>SE</td><td>1786.91843</td></tr><tr><td>2</td><td>2024-06-01</td><td>00-00-00</td><td>2</td><td>4</td><td>16.34197</td><td>E</td><td>1156.38082</td></tr><tr><td>3</td><td>2024-06-01</td><td>00-00-00</td><td>3</td><td>4</td><td>24.16424</td><td>E</td><td>1216.49768</td></tr><tr><td>4</td><td>2024-06-01</td><td>00-10-00</td><td>1</td><td>4</td><td>13.03947</td><td>NE</td><td>1888.39496</td></tr><tr><td>5</td><td>2024-06-01</td><td>00-10-00</td><td>2</td><td>4</td><td>4.00397</td><td>SE</td><td>1052.36231</td></tr><tr><td>6</td><td>2024-06-01</td><td>00-10-00</td><td>3</td><td>6</td><td>5.22807</td><td>N</td><td>0.0</td></tr><tr><td>7</td><td>2024-06-01</td><td>00-20-00</td><td>1</td><td>6</td><td>20.38065</td><td>SE</td><td>0.0</td></tr><tr><td>8</td><td>2024-06-01</td><td>00-20-00</td><td>2</td><td>4</td><td>17.61423</td><td>NW</td><td>1459.88153</td></tr><tr><td>9</td><td>2024-06-01</td><td>00-20-00</td><td>3</td><td>4</td><td>23.72739</td><td>NW</td><td>658.86141</td></tr><tr><td>10</td><td>2024-06-01</td><td>00-30-00</td><td>1</td><td>4</td><td>6.28564</td><td>E</td><td>1184.2255</td></tr></tbody></table></div>"
      ]
     },
     "metadata": {
      "application/vnd.databricks.v1+output": {
       "addedWidgets": {},
       "aggData": [],
       "aggError": "",
       "aggOverflow": false,
       "aggSchema": [],
       "aggSeriesLimitReached": false,
       "aggType": "",
       "arguments": {},
       "columnCustomDisplayInfos": {},
       "data": [
        [
         1,
         "2024-06-01",
         "00-00-00",
         1,
         4,
         18.44936,
         "SE",
         1786.91843
        ],
        [
         2,
         "2024-06-01",
         "00-00-00",
         2,
         4,
         16.34197,
         "E",
         1156.38082
        ],
        [
         3,
         "2024-06-01",
         "00-00-00",
         3,
         4,
         24.16424,
         "E",
         1216.49768
        ],
        [
         4,
         "2024-06-01",
         "00-10-00",
         1,
         4,
         13.03947,
         "NE",
         1888.39496
        ],
        [
         5,
         "2024-06-01",
         "00-10-00",
         2,
         4,
         4.00397,
         "SE",
         1052.36231
        ],
        [
         6,
         "2024-06-01",
         "00-10-00",
         3,
         6,
         5.22807,
         "N",
         0.0
        ],
        [
         7,
         "2024-06-01",
         "00-20-00",
         1,
         6,
         20.38065,
         "SE",
         0.0
        ],
        [
         8,
         "2024-06-01",
         "00-20-00",
         2,
         4,
         17.61423,
         "NW",
         1459.88153
        ],
        [
         9,
         "2024-06-01",
         "00-20-00",
         3,
         4,
         23.72739,
         "NW",
         658.86141
        ],
        [
         10,
         "2024-06-01",
         "00-30-00",
         1,
         4,
         6.28564,
         "E",
         1184.2255
        ]
       ],
       "datasetInfos": [],
       "dbfsResultPath": null,
       "isJsonSchema": true,
       "metadata": {
        "createTempViewForImplicitDf": true,
        "dataframeName": "_sqldf",
        "executionCount": 3
       },
       "overflow": false,
       "plotOptions": {
        "customPlotOptions": {},
        "displayType": "table",
        "pivotAggregation": null,
        "pivotColumns": null,
        "xColumns": null,
        "yColumns": null
       },
       "removedWidgets": [],
       "schema": [
        {
         "metadata": "{}",
         "name": "production_id",
         "type": "\"integer\""
        },
        {
         "metadata": "{\"__detected_date_formats\":\"yyyy-M-d\"}",
         "name": "date_id",
         "type": "\"date\""
        },
        {
         "metadata": "{}",
         "name": "time_id",
         "type": "\"string\""
        },
        {
         "metadata": "{}",
         "name": "turbine_id",
         "type": "\"integer\""
        },
        {
         "metadata": "{}",
         "name": "status_id",
         "type": "\"integer\""
        },
        {
         "metadata": "{}",
         "name": "wind_speed",
         "type": "\"double\""
        },
        {
         "metadata": "{}",
         "name": "wind_direction",
         "type": "\"string\""
        },
        {
         "metadata": "{}",
         "name": "energy_produced",
         "type": "\"double\""
        }
       ],
       "type": "table"
      }
     },
     "output_type": "display_data"
    }
   ],
   "source": [
    "%sql\n",
    "select * from goldwind.fact limit 10\n"
   ]
  }
 ],
 "metadata": {
  "application/vnd.databricks.v1+notebook": {
   "computePreferences": null,
   "dashboards": [],
   "environmentMetadata": {
    "base_environment": "",
    "environment_version": "2"
   },
   "inputWidgetPreferences": null,
   "language": "python",
   "notebookMetadata": {
    "mostRecentlyExecutedCommandWithImplicitDF": {
     "commandId": 6376943743948501,
     "dataframes": [
      "_sqldf"
     ]
    },
    "pythonIndentUnit": 4
   },
   "notebookName": "gold_ingest",
   "widgets": {}
  },
  "language_info": {
   "name": "python"
  }
 },
 "nbformat": 4,
 "nbformat_minor": 0
}